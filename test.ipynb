{
 "cells": [
  {
   "cell_type": "code",
   "execution_count": null,
   "id": "93804aaf",
   "metadata": {},
   "outputs": [],
   "source": [
    "import numpy as numpy"
   ]
  },
  {
   "cell_type": "markdown",
   "id": "9594ec04",
   "metadata": {},
   "source": [
    "# A Function for search"
   ]
  },
  {
   "cell_type": "markdown",
   "id": "f4d309f8",
   "metadata": {},
   "source": []
  }
 ],
 "metadata": {
  "kernelspec": {
   "display_name": "base",
   "language": "python",
   "name": "python3"
  },
  "language_info": {
   "name": "python",
   "version": "3.9.13"
  }
 },
 "nbformat": 4,
 "nbformat_minor": 5
}
